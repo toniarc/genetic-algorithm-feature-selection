{
 "cells": [
  {
   "cell_type": "code",
   "execution_count": 16,
   "id": "abe545c1",
   "metadata": {},
   "outputs": [],
   "source": [
    "from Dataset import Dataset\n",
    "from Evolution import Evolution\n",
    "from sklearn.tree import DecisionTreeClassifier \n",
    "from sklearn.datasets import make_classification\n",
    "import pandas as pd\n",
    "from sklearn.neighbors import KNeighborsClassifier\n",
    "from sklearn.tree import DecisionTreeClassifier\n",
    "from sklearn.ensemble import RandomForestClassifier\n",
    "import numpy as np\n",
    "import seaborn as sns\n",
    "import matplotlib.pyplot as plt\n",
    "import logging\n",
    "from pathlib import Path\n",
    "import os\n",
    "\n",
    "logging.getLogger(\"imported_module\").setLevel(logging.CRITICAL)\n",
    "#np.warnings.filterwarnings('ignore', category=np.VisibleDeprecationWarning)  "
   ]
  },
  {
   "cell_type": "markdown",
   "id": "243e1a37",
   "metadata": {},
   "source": [
    "# Instructions\n",
    "\n",
    "In this notebook feature selection can be carried for the census-income datasets from the UCI repository. This code could be modified to load a different dataset. Four wrapper feature selection methods are used to identify the infromative features using a Decision Tree classifier:\n",
    "\n",
    "* ## CHC$_{QX}$: \n",
    "The hyper-parameter choices of CHC$_{QX}$ are based on the paper “Fast Genetic Algorithm For Feature Selection - A Qualitative Approximation Approach”. The values are set to $q=10$ and $f=10$.\n",
    "\n",
    "* ## PSO$_{QX}$: \n",
    "The hyper-parameter choices of PSO$_{QX}$ are based on the paper “Fast Genetic Algorithm For Feature Selection - A Qualitative Approximation Approach”. The values are set to $q=10$ and $f=10$.\n",
    "\n",
    "* ## CHC: \n",
    "The implementation of a CHC algorithm is according to the paper: “The CHC Adaptive Search Algorithm: How to Have Safe Search When Engaging in Nontraditional Genetic Recombination”. The population size of is 50, the diversity parameter is set to $(d = \\frac{k}{4})$, where $k$ is the length of the individual (number of features), while the divergence rate is $(div = 0.35)$.\n",
    "\n",
    "* ## PSO:\n",
    "The global version of PSO with a topology connecting all particles to one another. The following options are used \\{c1: 1.49618, c2: 1.49618, w: 0.7298\\}, while the number of particles is set to 50."
   ]
  },
  {
   "cell_type": "code",
   "execution_count": 17,
   "id": "b421659b",
   "metadata": {},
   "outputs": [
    {
     "name": "stdout",
     "output_type": "stream",
     "text": [
      "/opt/git/labs/mestrado/Fast-Genetic-Algorithm-For-Feature-Selection/data/\n"
     ]
    },
    {
     "ename": "AttributeError",
     "evalue": "`np.NaN` was removed in the NumPy 2.0 release. Use `np.nan` instead.",
     "output_type": "error",
     "traceback": [
      "\u001b[0;31m---------------------------------------------------------------------------\u001b[0m",
      "\u001b[0;31mAttributeError\u001b[0m                            Traceback (most recent call last)",
      "Cell \u001b[0;32mIn[17], line 9\u001b[0m\n\u001b[1;32m      4\u001b[0m \u001b[38;5;28mprint\u001b[39m(work_dir)\n\u001b[1;32m      6\u001b[0m file_name, sep, label \u001b[38;5;241m=\u001b[39m \u001b[38;5;124m'\u001b[39m\u001b[38;5;124mcensus-income.data\u001b[39m\u001b[38;5;124m'\u001b[39m, \u001b[38;5;124m'\u001b[39m\u001b[38;5;124m,\u001b[39m\u001b[38;5;124m'\u001b[39m, \u001b[38;5;241m-\u001b[39m\u001b[38;5;241m1\u001b[39m\n\u001b[0;32m----> 9\u001b[0m dataset \u001b[38;5;241m=\u001b[39m \u001b[43mDataset\u001b[49m\u001b[43m(\u001b[49m\u001b[43mwork_dir\u001b[49m\u001b[38;5;241;43m+\u001b[39;49m\u001b[43mfile_name\u001b[49m\u001b[43m,\u001b[49m\u001b[43m \u001b[49m\u001b[43msep\u001b[49m\u001b[43m,\u001b[49m\u001b[43m \u001b[49m\u001b[43mlabel\u001b[49m\u001b[43m,\u001b[49m\u001b[43m \u001b[49m\u001b[43mdivide_dataset\u001b[49m\u001b[38;5;241;43m=\u001b[39;49m\u001b[38;5;28;43;01mFalse\u001b[39;49;00m\u001b[43m,\u001b[49m\u001b[43m \u001b[49m\u001b[43mheader\u001b[49m\u001b[38;5;241;43m=\u001b[39;49m\u001b[38;5;28;43;01mNone\u001b[39;49;00m\u001b[43m)\u001b[49m\n\u001b[1;32m     11\u001b[0m dataset\u001b[38;5;241m.\u001b[39mdf\u001b[38;5;241m.\u001b[39mdropna(subset\u001b[38;5;241m=\u001b[39m[dataset\u001b[38;5;241m.\u001b[39mdf\u001b[38;5;241m.\u001b[39mcolumns[label]], inplace\u001b[38;5;241m=\u001b[39m\u001b[38;5;28;01mTrue\u001b[39;00m)\n\u001b[1;32m     13\u001b[0m classifier \u001b[38;5;241m=\u001b[39m DecisionTreeClassifier(random_state\u001b[38;5;241m=\u001b[39m\u001b[38;5;241m0\u001b[39m)\n",
      "File \u001b[0;32m/opt/git/labs/mestrado/Fast-Genetic-Algorithm-For-Feature-Selection/code/Dataset.py:37\u001b[0m, in \u001b[0;36mDataset.__init__\u001b[0;34m(self, file_path, sep, label, divide_dataset, header)\u001b[0m\n\u001b[1;32m     34\u001b[0m         \u001b[38;5;28mself\u001b[39m\u001b[38;5;241m.\u001b[39mdf[col] \u001b[38;5;241m=\u001b[39m le\u001b[38;5;241m.\u001b[39mtransform(\u001b[38;5;28mself\u001b[39m\u001b[38;5;241m.\u001b[39mdf[col])\n\u001b[1;32m     36\u001b[0m \u001b[38;5;66;03m# Replcae missing values\u001b[39;00m\n\u001b[0;32m---> 37\u001b[0m \u001b[38;5;28mself\u001b[39m\u001b[38;5;241m.\u001b[39mdf \u001b[38;5;241m=\u001b[39m \u001b[38;5;28mself\u001b[39m\u001b[38;5;241m.\u001b[39mdf\u001b[38;5;241m.\u001b[39mreplace(\u001b[38;5;124m'\u001b[39m\u001b[38;5;124m?\u001b[39m\u001b[38;5;124m'\u001b[39m, \u001b[43mnp\u001b[49m\u001b[38;5;241;43m.\u001b[39;49m\u001b[43mNaN\u001b[49m)\n\u001b[1;32m     38\u001b[0m \u001b[38;5;28mself\u001b[39m\u001b[38;5;241m.\u001b[39mdf \u001b[38;5;241m=\u001b[39m \u001b[38;5;28mself\u001b[39m\u001b[38;5;241m.\u001b[39mdf\u001b[38;5;241m.\u001b[39mfillna(\u001b[38;5;28mself\u001b[39m\u001b[38;5;241m.\u001b[39mdf\u001b[38;5;241m.\u001b[39mmedian())\n\u001b[1;32m     39\u001b[0m \u001b[38;5;66;03m# df = df.astype('int32')\u001b[39;00m\n",
      "File \u001b[0;32m/opt/git/labs/mestrado/Fast-Genetic-Algorithm-For-Feature-Selection/.venv/lib/python3.11/site-packages/numpy/__init__.py:400\u001b[0m, in \u001b[0;36m__getattr__\u001b[0;34m(attr)\u001b[0m\n\u001b[1;32m    397\u001b[0m     \u001b[38;5;28;01mraise\u001b[39;00m \u001b[38;5;167;01mAttributeError\u001b[39;00m(__former_attrs__[attr], name\u001b[38;5;241m=\u001b[39m\u001b[38;5;28;01mNone\u001b[39;00m)\n\u001b[1;32m    399\u001b[0m \u001b[38;5;28;01mif\u001b[39;00m attr \u001b[38;5;129;01min\u001b[39;00m __expired_attributes__:\n\u001b[0;32m--> 400\u001b[0m     \u001b[38;5;28;01mraise\u001b[39;00m \u001b[38;5;167;01mAttributeError\u001b[39;00m(\n\u001b[1;32m    401\u001b[0m         \u001b[38;5;124mf\u001b[39m\u001b[38;5;124m\"\u001b[39m\u001b[38;5;124m`np.\u001b[39m\u001b[38;5;132;01m{\u001b[39;00mattr\u001b[38;5;132;01m}\u001b[39;00m\u001b[38;5;124m` was removed in the NumPy 2.0 release. \u001b[39m\u001b[38;5;124m\"\u001b[39m\n\u001b[1;32m    402\u001b[0m         \u001b[38;5;124mf\u001b[39m\u001b[38;5;124m\"\u001b[39m\u001b[38;5;132;01m{\u001b[39;00m__expired_attributes__[attr]\u001b[38;5;132;01m}\u001b[39;00m\u001b[38;5;124m\"\u001b[39m,\n\u001b[1;32m    403\u001b[0m         name\u001b[38;5;241m=\u001b[39m\u001b[38;5;28;01mNone\u001b[39;00m\n\u001b[1;32m    404\u001b[0m     )\n\u001b[1;32m    406\u001b[0m \u001b[38;5;28;01mif\u001b[39;00m attr \u001b[38;5;241m==\u001b[39m \u001b[38;5;124m\"\u001b[39m\u001b[38;5;124mchararray\u001b[39m\u001b[38;5;124m\"\u001b[39m:\n\u001b[1;32m    407\u001b[0m     warnings\u001b[38;5;241m.\u001b[39mwarn(\n\u001b[1;32m    408\u001b[0m         \u001b[38;5;124m\"\u001b[39m\u001b[38;5;124m`np.chararray` is deprecated and will be removed from \u001b[39m\u001b[38;5;124m\"\u001b[39m\n\u001b[1;32m    409\u001b[0m         \u001b[38;5;124m\"\u001b[39m\u001b[38;5;124mthe main namespace in the future. Use an array with a string \u001b[39m\u001b[38;5;124m\"\u001b[39m\n\u001b[1;32m    410\u001b[0m         \u001b[38;5;124m\"\u001b[39m\u001b[38;5;124mor bytes dtype instead.\u001b[39m\u001b[38;5;124m\"\u001b[39m, \u001b[38;5;167;01mDeprecationWarning\u001b[39;00m, stacklevel\u001b[38;5;241m=\u001b[39m\u001b[38;5;241m2\u001b[39m)\n",
      "\u001b[0;31mAttributeError\u001b[0m: `np.NaN` was removed in the NumPy 2.0 release. Use `np.nan` instead."
     ]
    }
   ],
   "source": [
    "path = Path(\"\")\n",
    "work_dir = str(path.parent.absolute().parent.absolute())+'/data/'\n",
    "\n",
    "print(work_dir)\n",
    "\n",
    "file_name, sep, label = 'census-income.data', ',', -1\n",
    "\n",
    " \n",
    "dataset = Dataset(work_dir+file_name, sep, label, divide_dataset=False, header=None)\n",
    "\n",
    "dataset.df.dropna(subset=[dataset.df.columns[label]], inplace=True)\n",
    "\n",
    "classifier = DecisionTreeClassifier(random_state=0)\n",
    "\n",
    "dataset.divide_dataset(classifier,\n",
    "                                      normalize=True, \n",
    "                                      shuffle=False, \n",
    "                                      all_features=True, \n",
    "                                      all_instances=True, \n",
    "                                      evaluate=True, \n",
    "                                      partial_sample=False)\n",
    "\n",
    "task = 'feature_selection'\n",
    "target_dataset = 'validation'\n",
    "ind_size = dataset.X_train.shape[1]\n",
    "population_size = 50\n",
    "\n",
    "results_df = pd.DataFrame(columns=['algorithm', 'time', 'test'])"
   ]
  },
  {
   "cell_type": "markdown",
   "id": "06a0b0af",
   "metadata": {},
   "source": [
    "## CHC$_{QX}$"
   ]
  },
  {
   "cell_type": "code",
   "execution_count": 33,
   "id": "ab9ad856",
   "metadata": {},
   "outputs": [
    {
     "name": "stdout",
     "output_type": "stream",
     "text": [
      "Meta-model sample size: 14964\n",
      "Best Individual =  0.9491 , Gen =  60 \r"
     ]
    }
   ],
   "source": [
    "log, baseline_full_data = Evolution.CHCqx(dataset, 10, 10, 2, population_size, verbose=1)"
   ]
  },
  {
   "cell_type": "code",
   "execution_count": 35,
   "id": "ca8625ef",
   "metadata": {},
   "outputs": [
    {
     "name": "stdout",
     "output_type": "stream",
     "text": [
      "\n",
      "Test accuracy: % 94.96\n",
      "Solution found in:  55.46 sec\n",
      "Selected features indexes:  [12 16 17 19 40]\n"
     ]
    }
   ],
   "source": [
    "feature_subset = log.iloc[-1]['ind']  \n",
    "feature_subset = np.array(feature_subset)\n",
    "\n",
    "elapsed_time = np.round(log.iloc[-1]['time'], 2)\n",
    "accuracy = np.round(100*Evolution.evaluate(feature_subset, 'feature_selection', 'test', dataset)[0], 2)\n",
    "\n",
    "print()\n",
    "print('Test accuracy: %', accuracy)\n",
    "print('Solution found in: ', elapsed_time, 'sec')\n",
    "print('Selected features indexes: ', np.where(feature_subset == 1)[0])\n",
    "\n",
    "row = ['CHC$_{QX}$', elapsed_time, accuracy]\n",
    "results_df.loc[len(results_df)] = row"
   ]
  },
  {
   "cell_type": "code",
   "execution_count": null,
   "id": "0409e266",
   "metadata": {},
   "outputs": [],
   "source": []
  },
  {
   "cell_type": "markdown",
   "id": "bffcfbb4",
   "metadata": {},
   "source": [
    "## PSO$_{QX}$"
   ]
  },
  {
   "cell_type": "code",
   "execution_count": 37,
   "id": "8da8d8ca",
   "metadata": {},
   "outputs": [
    {
     "name": "stdout",
     "output_type": "stream",
     "text": [
      "Meta-model sample size: 29928\n",
      "Best Individual =  0.9492 , Step =  10 \r"
     ]
    }
   ],
   "source": [
    "options = {'c1': 1.49618, 'c2': 1.49618, 'w': 0.7298, 'k': population_size, 'p':2}\n",
    "\n",
    "log, baseline_full_data = Evolution.PSOqx(dataset, options, 10, 10, 2, population_size, verbose=1)"
   ]
  },
  {
   "cell_type": "code",
   "execution_count": 38,
   "id": "5bdd232a",
   "metadata": {},
   "outputs": [
    {
     "name": "stdout",
     "output_type": "stream",
     "text": [
      "\n",
      "Test accuracy: % 95.09\n",
      "Solution found in:  33.95 sec\n",
      "Selected features indexes:  [ 3 12 14 16 17 22 23 31]\n"
     ]
    }
   ],
   "source": [
    "feature_subset = log.iloc[-1]['ind']  \n",
    "feature_subset = np.array(feature_subset)\n",
    "\n",
    "elapsed_time = np.round(log.iloc[-1]['time'], 2)\n",
    "accuracy = np.round(100*Evolution.evaluate(feature_subset, 'feature_selection', 'test', dataset)[0], 2)\n",
    "\n",
    "print()\n",
    "print('Test accuracy: %', accuracy)\n",
    "print('Solution found in: ', elapsed_time, 'sec')\n",
    "print('Selected features indexes: ', np.where(feature_subset == 1)[0])\n",
    "\n",
    "row = ['PSO$_{QX}$', elapsed_time, accuracy]\n",
    "results_df.loc[len(results_df)] = row"
   ]
  },
  {
   "cell_type": "code",
   "execution_count": null,
   "id": "29b080ee",
   "metadata": {},
   "outputs": [],
   "source": []
  },
  {
   "cell_type": "markdown",
   "id": "f0245fad",
   "metadata": {},
   "source": [
    "## CHC"
   ]
  },
  {
   "cell_type": "code",
   "execution_count": 39,
   "id": "351e839c",
   "metadata": {},
   "outputs": [
    {
     "name": "stdout",
     "output_type": "stream",
     "text": [
      "Best Individual =  0.9491 , Gen =  31 \r"
     ]
    }
   ],
   "source": [
    "ind_size = dataset.X_train.shape[1]\n",
    "toolbox = Evolution.create_toolbox(task, target_dataset, dataset, baseline_full_data)\n",
    "population = Evolution.create_population(population_size, ind_size)\n",
    "d = ind_size // 4\n",
    "log, population, d = Evolution.CHC(dataset, toolbox, d, population, verbose=1, max_no_change=10)"
   ]
  },
  {
   "cell_type": "code",
   "execution_count": 40,
   "id": "7627bb53",
   "metadata": {},
   "outputs": [
    {
     "name": "stdout",
     "output_type": "stream",
     "text": [
      "\n",
      "Test accuracy: % 94.93\n",
      "Solution found in:  119.52 sec\n",
      "Selected features indexes:  [10 12 16 17]\n"
     ]
    }
   ],
   "source": [
    "feature_subset = log.iloc[-1]['best_solution']  \n",
    "feature_subset = np.array(feature_subset)\n",
    "\n",
    "elapsed_time = np.round(log.iloc[-1]['time'], 2)\n",
    "accuracy = np.round(100*Evolution.evaluate(feature_subset, 'feature_selection', 'test', dataset)[0], 2)\n",
    "\n",
    "print()\n",
    "print('Test accuracy: %', accuracy)\n",
    "print('Solution found in: ', elapsed_time, 'sec')\n",
    "print('Selected features indexes: ', np.where(feature_subset == 1)[0])\n",
    "\n",
    "row = ['CHC', elapsed_time, accuracy]\n",
    "results_df.loc[len(results_df)] = row"
   ]
  },
  {
   "cell_type": "code",
   "execution_count": null,
   "id": "88971597",
   "metadata": {},
   "outputs": [],
   "source": []
  },
  {
   "cell_type": "markdown",
   "id": "3a0aa554",
   "metadata": {},
   "source": [
    "## PSO"
   ]
  },
  {
   "cell_type": "code",
   "execution_count": 41,
   "id": "2ba186cb",
   "metadata": {},
   "outputs": [
    {
     "name": "stdout",
     "output_type": "stream",
     "text": [
      "Best Individual =  -0.9491 , Step =  33 \r"
     ]
    }
   ],
   "source": [
    "options = {'c1': 1.49618, 'c2': 1.49618, 'w': 0.7298, 'k': population_size, 'p':2}\n",
    "\n",
    "log = Evolution.PSO(dataset, options, population_size, steps_no_change=10, verbose=1)"
   ]
  },
  {
   "cell_type": "code",
   "execution_count": 42,
   "id": "cde2d0e7",
   "metadata": {},
   "outputs": [
    {
     "name": "stdout",
     "output_type": "stream",
     "text": [
      "\n",
      "Test accuracy: % 94.91\n",
      "Solution found in:  230.08 sec\n",
      "Selected features indexes:  [ 6 10 12 16 17 19 29 31 40]\n"
     ]
    }
   ],
   "source": [
    "feature_subset = log.iloc[-1]['ind']  \n",
    "feature_subset = np.array(feature_subset)\n",
    "\n",
    "elapsed_time = np.round(log.iloc[-1]['time'], 2)\n",
    "accuracy = np.round(100*Evolution.evaluate(feature_subset, 'feature_selection', 'test', dataset)[0], 2)\n",
    "\n",
    "print()\n",
    "print('Test accuracy: %', accuracy)\n",
    "print('Solution found in: ', elapsed_time, 'sec')\n",
    "print('Selected features indexes: ', np.where(feature_subset == 1)[0])\n",
    "\n",
    "row = ['PSO', elapsed_time, accuracy]\n",
    "results_df.loc[len(results_df)] = row"
   ]
  },
  {
   "cell_type": "code",
   "execution_count": null,
   "id": "d9e39d4b",
   "metadata": {},
   "outputs": [],
   "source": []
  },
  {
   "cell_type": "markdown",
   "id": "dd108018",
   "metadata": {},
   "source": [
    "# Saving results"
   ]
  },
  {
   "cell_type": "code",
   "execution_count": 21,
   "id": "c545acbf",
   "metadata": {},
   "outputs": [],
   "source": [
    "results_df.to_csv(str(path.parent.absolute().parent.absolute())+'/results/results.csv')"
   ]
  },
  {
   "cell_type": "code",
   "execution_count": null,
   "id": "63ec7b20",
   "metadata": {},
   "outputs": [],
   "source": []
  }
 ],
 "metadata": {
  "kernelspec": {
   "display_name": ".venv",
   "language": "python",
   "name": "python3"
  },
  "language_info": {
   "codemirror_mode": {
    "name": "ipython",
    "version": 3
   },
   "file_extension": ".py",
   "mimetype": "text/x-python",
   "name": "python",
   "nbconvert_exporter": "python",
   "pygments_lexer": "ipython3",
   "version": "3.11.4"
  }
 },
 "nbformat": 4,
 "nbformat_minor": 5
}
