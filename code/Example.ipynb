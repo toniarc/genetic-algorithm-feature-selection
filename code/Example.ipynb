{
 "cells": [
  {
   "cell_type": "code",
   "execution_count": 1,
   "id": "4a2baac7",
   "metadata": {},
   "outputs": [
    {
     "name": "stdout",
     "output_type": "stream",
     "text": [
      "Collecting deap\n",
      "  Downloading deap-1.4.1.tar.gz (1.1 MB)\n",
      "\u001b[2K     \u001b[38;2;114;156;31m━━━━━━━━━━━━━━━━━━━━━━━━━━━━━━━━━━━━━━━━\u001b[0m \u001b[32m1.1/1.1 MB\u001b[0m \u001b[31m11.2 MB/s\u001b[0m eta \u001b[36m0:00:00\u001b[0m\n",
      "\u001b[?25h  Installing build dependencies ... \u001b[?25ldone\n",
      "\u001b[?25h  Getting requirements to build wheel ... \u001b[?25ldone\n",
      "\u001b[?25h  Preparing metadata (pyproject.toml) ... \u001b[?25ldone\n",
      "\u001b[?25hCollecting pyswarms\n",
      "  Downloading pyswarms-1.3.0-py2.py3-none-any.whl.metadata (33 kB)\n",
      "Collecting matplotlib\n",
      "  Downloading matplotlib-3.10.0-cp312-cp312-manylinux_2_17_x86_64.manylinux2014_x86_64.whl.metadata (11 kB)\n",
      "Collecting pandas\n",
      "  Downloading pandas-2.2.3-cp312-cp312-manylinux_2_17_x86_64.manylinux2014_x86_64.whl.metadata (89 kB)\n",
      "Collecting seaborn\n",
      "  Downloading seaborn-0.13.2-py3-none-any.whl.metadata (5.4 kB)\n",
      "Collecting numpy\n",
      "  Downloading numpy-2.2.0-cp312-cp312-manylinux_2_17_x86_64.manylinux2014_x86_64.whl.metadata (62 kB)\n",
      "Collecting scikit-learn\n",
      "  Downloading scikit_learn-1.6.0-cp312-cp312-manylinux_2_17_x86_64.manylinux2014_x86_64.whl.metadata (18 kB)\n",
      "Collecting scipy (from pyswarms)\n",
      "  Using cached scipy-1.14.1-cp312-cp312-manylinux_2_17_x86_64.manylinux2014_x86_64.whl.metadata (60 kB)\n",
      "Collecting attrs (from pyswarms)\n",
      "  Downloading attrs-24.3.0-py3-none-any.whl.metadata (11 kB)\n",
      "Collecting tqdm (from pyswarms)\n",
      "  Downloading tqdm-4.67.1-py3-none-any.whl.metadata (57 kB)\n",
      "Collecting future (from pyswarms)\n",
      "  Downloading future-1.0.0-py3-none-any.whl.metadata (4.0 kB)\n",
      "Collecting pyyaml (from pyswarms)\n",
      "  Using cached PyYAML-6.0.2-cp312-cp312-manylinux_2_17_x86_64.manylinux2014_x86_64.whl.metadata (2.1 kB)\n",
      "Collecting contourpy>=1.0.1 (from matplotlib)\n",
      "  Downloading contourpy-1.3.1-cp312-cp312-manylinux_2_17_x86_64.manylinux2014_x86_64.whl.metadata (5.4 kB)\n",
      "Collecting cycler>=0.10 (from matplotlib)\n",
      "  Downloading cycler-0.12.1-py3-none-any.whl.metadata (3.8 kB)\n",
      "Collecting fonttools>=4.22.0 (from matplotlib)\n",
      "  Downloading fonttools-4.55.3-cp312-cp312-manylinux_2_5_x86_64.manylinux1_x86_64.manylinux_2_17_x86_64.manylinux2014_x86_64.whl.metadata (165 kB)\n",
      "Collecting kiwisolver>=1.3.1 (from matplotlib)\n",
      "  Downloading kiwisolver-1.4.7-cp312-cp312-manylinux_2_17_x86_64.manylinux2014_x86_64.whl.metadata (6.3 kB)\n",
      "Requirement already satisfied: packaging>=20.0 in /mnt/U01/git/labs/mestrado/genetic-algorithm-feature-selection/.venv/lib/python3.12/site-packages (from matplotlib) (24.2)\n",
      "Collecting pillow>=8 (from matplotlib)\n",
      "  Downloading pillow-11.0.0-cp312-cp312-manylinux_2_28_x86_64.whl.metadata (9.1 kB)\n",
      "Collecting pyparsing>=2.3.1 (from matplotlib)\n",
      "  Downloading pyparsing-3.2.0-py3-none-any.whl.metadata (5.0 kB)\n",
      "Requirement already satisfied: python-dateutil>=2.7 in /mnt/U01/git/labs/mestrado/genetic-algorithm-feature-selection/.venv/lib/python3.12/site-packages (from matplotlib) (2.9.0.post0)\n",
      "Collecting pytz>=2020.1 (from pandas)\n",
      "  Using cached pytz-2024.2-py2.py3-none-any.whl.metadata (22 kB)\n",
      "Collecting tzdata>=2022.7 (from pandas)\n",
      "  Downloading tzdata-2024.2-py2.py3-none-any.whl.metadata (1.4 kB)\n",
      "Collecting joblib>=1.2.0 (from scikit-learn)\n",
      "  Using cached joblib-1.4.2-py3-none-any.whl.metadata (5.4 kB)\n",
      "Collecting threadpoolctl>=3.1.0 (from scikit-learn)\n",
      "  Using cached threadpoolctl-3.5.0-py3-none-any.whl.metadata (13 kB)\n",
      "Requirement already satisfied: six>=1.5 in /mnt/U01/git/labs/mestrado/genetic-algorithm-feature-selection/.venv/lib/python3.12/site-packages (from python-dateutil>=2.7->matplotlib) (1.17.0)\n",
      "Downloading pyswarms-1.3.0-py2.py3-none-any.whl (104 kB)\n",
      "Downloading matplotlib-3.10.0-cp312-cp312-manylinux_2_17_x86_64.manylinux2014_x86_64.whl (8.6 MB)\n",
      "\u001b[2K   \u001b[38;2;114;156;31m━━━━━━━━━━━━━━━━━━━━━━━━━━━━━━━━━━━━━━━━\u001b[0m \u001b[32m8.6/8.6 MB\u001b[0m \u001b[31m60.2 MB/s\u001b[0m eta \u001b[36m0:00:00\u001b[0m\n",
      "\u001b[?25hDownloading pandas-2.2.3-cp312-cp312-manylinux_2_17_x86_64.manylinux2014_x86_64.whl (12.7 MB)\n",
      "\u001b[2K   \u001b[38;2;114;156;31m━━━━━━━━━━━━━━━━━━━━━━━━━━━━━━━━━━━━━━━━\u001b[0m \u001b[32m12.7/12.7 MB\u001b[0m \u001b[31m66.9 MB/s\u001b[0m eta \u001b[36m0:00:00\u001b[0m\n",
      "\u001b[?25hDownloading seaborn-0.13.2-py3-none-any.whl (294 kB)\n",
      "Downloading numpy-2.2.0-cp312-cp312-manylinux_2_17_x86_64.manylinux2014_x86_64.whl (16.1 MB)\n",
      "\u001b[2K   \u001b[38;2;114;156;31m━━━━━━━━━━━━━━━━━━━━━━━━━━━━━━━━━━━━━━━━\u001b[0m \u001b[32m16.1/16.1 MB\u001b[0m \u001b[31m97.9 MB/s\u001b[0m eta \u001b[36m0:00:00\u001b[0m\n",
      "\u001b[?25hDownloading scikit_learn-1.6.0-cp312-cp312-manylinux_2_17_x86_64.manylinux2014_x86_64.whl (13.1 MB)\n",
      "\u001b[2K   \u001b[38;2;114;156;31m━━━━━━━━━━━━━━━━━━━━━━━━━━━━━━━━━━━━━━━━\u001b[0m \u001b[32m13.1/13.1 MB\u001b[0m \u001b[31m93.8 MB/s\u001b[0m eta \u001b[36m0:00:00\u001b[0m\n",
      "\u001b[?25hDownloading contourpy-1.3.1-cp312-cp312-manylinux_2_17_x86_64.manylinux2014_x86_64.whl (323 kB)\n",
      "Downloading cycler-0.12.1-py3-none-any.whl (8.3 kB)\n",
      "Downloading fonttools-4.55.3-cp312-cp312-manylinux_2_5_x86_64.manylinux1_x86_64.manylinux_2_17_x86_64.manylinux2014_x86_64.whl (4.9 MB)\n",
      "\u001b[2K   \u001b[38;2;114;156;31m━━━━━━━━━━━━━━━━━━━━━━━━━━━━━━━━━━━━━━━━\u001b[0m \u001b[32m4.9/4.9 MB\u001b[0m \u001b[31m87.7 MB/s\u001b[0m eta \u001b[36m0:00:00\u001b[0m\n",
      "\u001b[?25hUsing cached joblib-1.4.2-py3-none-any.whl (301 kB)\n",
      "Downloading kiwisolver-1.4.7-cp312-cp312-manylinux_2_17_x86_64.manylinux2014_x86_64.whl (1.5 MB)\n",
      "\u001b[2K   \u001b[38;2;114;156;31m━━━━━━━━━━━━━━━━━━━━━━━━━━━━━━━━━━━━━━━━\u001b[0m \u001b[32m1.5/1.5 MB\u001b[0m \u001b[31m69.7 MB/s\u001b[0m eta \u001b[36m0:00:00\u001b[0m\n",
      "\u001b[?25hDownloading pillow-11.0.0-cp312-cp312-manylinux_2_28_x86_64.whl (4.4 MB)\n",
      "\u001b[2K   \u001b[38;2;114;156;31m━━━━━━━━━━━━━━━━━━━━━━━━━━━━━━━━━━━━━━━━\u001b[0m \u001b[32m4.4/4.4 MB\u001b[0m \u001b[31m93.5 MB/s\u001b[0m eta \u001b[36m0:00:00\u001b[0m\n",
      "\u001b[?25hDownloading pyparsing-3.2.0-py3-none-any.whl (106 kB)\n",
      "Using cached pytz-2024.2-py2.py3-none-any.whl (508 kB)\n",
      "Using cached scipy-1.14.1-cp312-cp312-manylinux_2_17_x86_64.manylinux2014_x86_64.whl (40.8 MB)\n",
      "Using cached threadpoolctl-3.5.0-py3-none-any.whl (18 kB)\n",
      "Downloading tzdata-2024.2-py2.py3-none-any.whl (346 kB)\n",
      "Downloading attrs-24.3.0-py3-none-any.whl (63 kB)\n",
      "Downloading future-1.0.0-py3-none-any.whl (491 kB)\n",
      "Using cached PyYAML-6.0.2-cp312-cp312-manylinux_2_17_x86_64.manylinux2014_x86_64.whl (767 kB)\n",
      "Downloading tqdm-4.67.1-py3-none-any.whl (78 kB)\n",
      "Building wheels for collected packages: deap\n",
      "  Building wheel for deap (pyproject.toml) ... \u001b[?25ldone\n",
      "\u001b[?25h  Created wheel for deap: filename=deap-1.4.1-cp312-cp312-linux_x86_64.whl size=133201 sha256=618aa8b1fe9b2d3cc675d2e3d90909b0735d597b3a5e16e37a5687cc80b95aea\n",
      "  Stored in directory: /home/antonio-junio/.cache/pip/wheels/6c/1d/91/0a68add63bf57c3263b06b3462179d244fed0ff1dbb8d5eff0\n",
      "Successfully built deap\n",
      "Installing collected packages: pytz, tzdata, tqdm, threadpoolctl, pyyaml, pyparsing, pillow, numpy, kiwisolver, joblib, future, fonttools, cycler, attrs, scipy, pandas, deap, contourpy, scikit-learn, matplotlib, seaborn, pyswarms\n",
      "Successfully installed attrs-24.3.0 contourpy-1.3.1 cycler-0.12.1 deap-1.4.1 fonttools-4.55.3 future-1.0.0 joblib-1.4.2 kiwisolver-1.4.7 matplotlib-3.10.0 numpy-2.2.0 pandas-2.2.3 pillow-11.0.0 pyparsing-3.2.0 pyswarms-1.3.0 pytz-2024.2 pyyaml-6.0.2 scikit-learn-1.6.0 scipy-1.14.1 seaborn-0.13.2 threadpoolctl-3.5.0 tqdm-4.67.1 tzdata-2024.2\n"
     ]
    }
   ],
   "source": [
    "!pip install deap pyswarms matplotlib pandas seaborn numpy scikit-learn"
   ]
  },
  {
   "cell_type": "code",
   "execution_count": 1,
   "id": "abe545c1",
   "metadata": {},
   "outputs": [],
   "source": [
    "from Dataset import Dataset\n",
    "from Evolution import Evolution\n",
    "from sklearn.tree import DecisionTreeClassifier \n",
    "from sklearn.datasets import make_classification\n",
    "import pandas as pd\n",
    "from sklearn.neighbors import KNeighborsClassifier\n",
    "from sklearn.tree import DecisionTreeClassifier\n",
    "from sklearn.ensemble import RandomForestClassifier\n",
    "import numpy as np\n",
    "import seaborn as sns\n",
    "import matplotlib.pyplot as plt\n",
    "import logging\n",
    "from pathlib import Path\n",
    "import os\n",
    "\n",
    "logging.getLogger(\"imported_module\").setLevel(logging.CRITICAL)\n",
    "#np.warnings.filterwarnings('ignore', category=np.VisibleDeprecationWarning)  "
   ]
  },
  {
   "cell_type": "markdown",
   "id": "243e1a37",
   "metadata": {},
   "source": [
    "# Instructions\n",
    "\n",
    "In this notebook feature selection can be carried for the census-income datasets from the UCI repository. This code could be modified to load a different dataset. Four wrapper feature selection methods are used to identify the infromative features using a Decision Tree classifier:\n",
    "\n",
    "* ## CHC$_{QX}$: \n",
    "The hyper-parameter choices of CHC$_{QX}$ are based on the paper “Fast Genetic Algorithm For Feature Selection - A Qualitative Approximation Approach”. The values are set to $q=10$ and $f=10$.\n",
    "\n",
    "* ## PSO$_{QX}$: \n",
    "The hyper-parameter choices of PSO$_{QX}$ are based on the paper “Fast Genetic Algorithm For Feature Selection - A Qualitative Approximation Approach”. The values are set to $q=10$ and $f=10$.\n",
    "\n",
    "* ## CHC: \n",
    "The implementation of a CHC algorithm is according to the paper: “The CHC Adaptive Search Algorithm: How to Have Safe Search When Engaging in Nontraditional Genetic Recombination”. The population size of is 50, the diversity parameter is set to $(d = \\frac{k}{4})$, where $k$ is the length of the individual (number of features), while the divergence rate is $(div = 0.35)$.\n",
    "\n",
    "* ## PSO:\n",
    "The global version of PSO with a topology connecting all particles to one another. The following options are used \\{c1: 1.49618, c2: 1.49618, w: 0.7298\\}, while the number of particles is set to 50."
   ]
  },
  {
   "cell_type": "code",
   "execution_count": 3,
   "id": "b421659b",
   "metadata": {},
   "outputs": [
    {
     "name": "stdout",
     "output_type": "stream",
     "text": [
      "/mnt/U01/git/labs/mestrado/genetic-algorithm-feature-selection/data/\n"
     ]
    },
    {
     "name": "stderr",
     "output_type": "stream",
     "text": [
      "/mnt/U01/git/labs/mestrado/genetic-algorithm-feature-selection/code/Dataset.py:82: DtypeWarning: Columns (0,1,2,3,4,5,6,7,8,9,10,11,12,13,14,15,16,17,18,19,20,21) have mixed types. Specify dtype option on import or set low_memory=False.\n",
      "  df = pd.read_csv(file_path, header=header, sep=',')\n"
     ]
    }
   ],
   "source": [
    "path = Path(\"\")\n",
    "work_dir = str(path.parent.absolute().parent.absolute())+'/data/'\n",
    "\n",
    "print(work_dir)\n",
    "\n",
    "#file_name, sep, label = 'census-income.data', ',', -1\n",
    "file_name, sep, label = 'diabetes_012_health_indicators_BRFSS2015.csv', ',', -1\n",
    "\n",
    " \n",
    "dataset = Dataset(work_dir+file_name, sep, label, divide_dataset=False, header=None)\n",
    "\n",
    "dataset.df.dropna(subset=[dataset.df.columns[label]], inplace=True)\n",
    "\n",
    "classifier = DecisionTreeClassifier(random_state=0)\n",
    "\n",
    "dataset.divide_dataset(classifier,\n",
    "                                      normalize=True, \n",
    "                                      shuffle=False, \n",
    "                                      all_features=True, \n",
    "                                      all_instances=True, \n",
    "                                      evaluate=True, \n",
    "                                      partial_sample=False)\n",
    "\n",
    "task = 'feature_selection'\n",
    "target_dataset = 'validation'\n",
    "ind_size = dataset.X_train.shape[1]\n",
    "population_size = 50\n",
    "\n",
    "results_df = pd.DataFrame(columns=['algorithm', 'time', 'test'])"
   ]
  },
  {
   "cell_type": "markdown",
   "id": "06a0b0af",
   "metadata": {},
   "source": [
    "## CHC$_{QX}$"
   ]
  },
  {
   "cell_type": "code",
   "execution_count": 4,
   "id": "ab9ad856",
   "metadata": {},
   "outputs": [
    {
     "name": "stdout",
     "output_type": "stream",
     "text": [
      "Meta-model sample size: 19026\n",
      "Best Individual =  0.3737 , Gen =  20 \r"
     ]
    }
   ],
   "source": [
    "log, baseline_full_data = Evolution.CHCqx(dataset, 10, 10, 2, population_size, verbose=1)"
   ]
  },
  {
   "cell_type": "code",
   "execution_count": 5,
   "id": "ca8625ef",
   "metadata": {},
   "outputs": [
    {
     "name": "stdout",
     "output_type": "stream",
     "text": [
      "\n",
      "Test accuracy: % 37.3\n",
      "Solution found in:  34.72 sec\n",
      "Selected features indexes:  [11 12 13 17 19 20]\n"
     ]
    }
   ],
   "source": [
    "feature_subset = log.iloc[-1]['ind']  \n",
    "feature_subset = np.array(feature_subset)\n",
    "\n",
    "elapsed_time = np.round(log.iloc[-1]['time'], 2)\n",
    "accuracy = np.round(100*Evolution.evaluate(feature_subset, 'feature_selection', 'test', dataset)[0], 2)\n",
    "\n",
    "print()\n",
    "print('Test accuracy: %', accuracy)\n",
    "print('Solution found in: ', elapsed_time, 'sec')\n",
    "print('Selected features indexes: ', np.where(feature_subset == 1)[0])\n",
    "\n",
    "row = ['CHC$_{QX}$', elapsed_time, accuracy]\n",
    "results_df.loc[len(results_df)] = row"
   ]
  },
  {
   "cell_type": "markdown",
   "id": "bffcfbb4",
   "metadata": {},
   "source": [
    "## PSO$_{QX}$"
   ]
  },
  {
   "cell_type": "code",
   "execution_count": 6,
   "id": "8da8d8ca",
   "metadata": {},
   "outputs": [
    {
     "name": "stdout",
     "output_type": "stream",
     "text": [
      "Meta-model sample size: 76104\n",
      "Best Individual =  0.3728 , Step =  20 \r"
     ]
    }
   ],
   "source": [
    "options = {'c1': 1.49618, 'c2': 1.49618, 'w': 0.7298, 'k': population_size, 'p':2}\n",
    "\n",
    "log, baseline_full_data = Evolution.PSOqx(dataset, options, 10, 10, 2, population_size, verbose=1)"
   ]
  },
  {
   "cell_type": "code",
   "execution_count": 7,
   "id": "5bdd232a",
   "metadata": {},
   "outputs": [
    {
     "name": "stdout",
     "output_type": "stream",
     "text": [
      "\n",
      "Test accuracy: % 37.2\n",
      "Solution found in:  91.08 sec\n",
      "Selected features indexes:  [ 6 10 12 13 17 19 20]\n"
     ]
    }
   ],
   "source": [
    "feature_subset = log.iloc[-1]['ind']  \n",
    "feature_subset = np.array(feature_subset)\n",
    "\n",
    "elapsed_time = np.round(log.iloc[-1]['time'], 2)\n",
    "accuracy = np.round(100*Evolution.evaluate(feature_subset, 'feature_selection', 'test', dataset)[0], 2)\n",
    "\n",
    "print()\n",
    "print('Test accuracy: %', accuracy)\n",
    "print('Solution found in: ', elapsed_time, 'sec')\n",
    "print('Selected features indexes: ', np.where(feature_subset == 1)[0])\n",
    "\n",
    "row = ['PSO$_{QX}$', elapsed_time, accuracy]\n",
    "results_df.loc[len(results_df)] = row"
   ]
  },
  {
   "cell_type": "code",
   "execution_count": null,
   "id": "29b080ee",
   "metadata": {},
   "outputs": [],
   "source": []
  },
  {
   "cell_type": "markdown",
   "id": "f0245fad",
   "metadata": {},
   "source": [
    "## CHC"
   ]
  },
  {
   "cell_type": "code",
   "execution_count": 8,
   "id": "351e839c",
   "metadata": {},
   "outputs": [
    {
     "name": "stdout",
     "output_type": "stream",
     "text": [
      "Best Individual =  0.949 , Gen =  22 \r"
     ]
    }
   ],
   "source": [
    "ind_size = dataset.X_train.shape[1]\n",
    "toolbox = Evolution.create_toolbox(task, target_dataset, dataset, baseline_full_data)\n",
    "population = Evolution.create_population(population_size, ind_size)\n",
    "d = ind_size // 4\n",
    "log, population, d = Evolution.CHC(dataset, toolbox, d, population, verbose=1, max_no_change=10)"
   ]
  },
  {
   "cell_type": "code",
   "execution_count": 9,
   "id": "7627bb53",
   "metadata": {},
   "outputs": [
    {
     "name": "stdout",
     "output_type": "stream",
     "text": [
      "\n",
      "Test accuracy: % 94.94\n",
      "Solution found in:  94.59 sec\n",
      "Selected features indexes:  [12 16 17]\n"
     ]
    }
   ],
   "source": [
    "feature_subset = log.iloc[-1]['best_solution']  \n",
    "feature_subset = np.array(feature_subset)\n",
    "\n",
    "elapsed_time = np.round(log.iloc[-1]['time'], 2)\n",
    "accuracy = np.round(100*Evolution.evaluate(feature_subset, 'feature_selection', 'test', dataset)[0], 2)\n",
    "\n",
    "print()\n",
    "print('Test accuracy: %', accuracy)\n",
    "print('Solution found in: ', elapsed_time, 'sec')\n",
    "print('Selected features indexes: ', np.where(feature_subset == 1)[0])\n",
    "\n",
    "row = ['CHC', elapsed_time, accuracy]\n",
    "results_df.loc[len(results_df)] = row"
   ]
  },
  {
   "cell_type": "code",
   "execution_count": null,
   "id": "88971597",
   "metadata": {},
   "outputs": [],
   "source": []
  },
  {
   "cell_type": "markdown",
   "id": "3a0aa554",
   "metadata": {},
   "source": [
    "## PSO"
   ]
  },
  {
   "cell_type": "code",
   "execution_count": 10,
   "id": "2ba186cb",
   "metadata": {},
   "outputs": [
    {
     "name": "stdout",
     "output_type": "stream",
     "text": [
      "Best Individual =  -0.949 , Step =  29  \r"
     ]
    }
   ],
   "source": [
    "options = {'c1': 1.49618, 'c2': 1.49618, 'w': 0.7298, 'k': population_size, 'p':2}\n",
    "\n",
    "log = Evolution.PSO(dataset, options, population_size, steps_no_change=10, verbose=1)"
   ]
  },
  {
   "cell_type": "code",
   "execution_count": 11,
   "id": "cde2d0e7",
   "metadata": {},
   "outputs": [
    {
     "name": "stdout",
     "output_type": "stream",
     "text": [
      "\n",
      "Test accuracy: % 94.95\n",
      "Solution found in:  223.87 sec\n",
      "Selected features indexes:  [ 6 12 16 17 19 30 31]\n"
     ]
    }
   ],
   "source": [
    "feature_subset = log.iloc[-1]['ind']  \n",
    "feature_subset = np.array(feature_subset)\n",
    "\n",
    "elapsed_time = np.round(log.iloc[-1]['time'], 2)\n",
    "accuracy = np.round(100*Evolution.evaluate(feature_subset, 'feature_selection', 'test', dataset)[0], 2)\n",
    "\n",
    "print()\n",
    "print('Test accuracy: %', accuracy)\n",
    "print('Solution found in: ', elapsed_time, 'sec')\n",
    "print('Selected features indexes: ', np.where(feature_subset == 1)[0])\n",
    "\n",
    "row = ['PSO', elapsed_time, accuracy]\n",
    "results_df.loc[len(results_df)] = row"
   ]
  },
  {
   "cell_type": "markdown",
   "id": "dd108018",
   "metadata": {},
   "source": [
    "# Saving results"
   ]
  },
  {
   "cell_type": "code",
   "execution_count": null,
   "id": "c545acbf",
   "metadata": {},
   "outputs": [
    {
     "data": {
      "text/html": [
       "<div>\n",
       "<style scoped>\n",
       "    .dataframe tbody tr th:only-of-type {\n",
       "        vertical-align: middle;\n",
       "    }\n",
       "\n",
       "    .dataframe tbody tr th {\n",
       "        vertical-align: top;\n",
       "    }\n",
       "\n",
       "    .dataframe thead th {\n",
       "        text-align: right;\n",
       "    }\n",
       "</style>\n",
       "<table border=\"1\" class=\"dataframe\">\n",
       "  <thead>\n",
       "    <tr style=\"text-align: right;\">\n",
       "      <th></th>\n",
       "      <th>algorithm</th>\n",
       "      <th>time</th>\n",
       "      <th>test</th>\n",
       "    </tr>\n",
       "  </thead>\n",
       "  <tbody>\n",
       "    <tr>\n",
       "      <th>0</th>\n",
       "      <td>CHC$_{QX}$</td>\n",
       "      <td>32.05</td>\n",
       "      <td>94.94</td>\n",
       "    </tr>\n",
       "    <tr>\n",
       "      <th>1</th>\n",
       "      <td>PSO$_{QX}$</td>\n",
       "      <td>23.69</td>\n",
       "      <td>94.94</td>\n",
       "    </tr>\n",
       "    <tr>\n",
       "      <th>2</th>\n",
       "      <td>CHC</td>\n",
       "      <td>94.59</td>\n",
       "      <td>94.94</td>\n",
       "    </tr>\n",
       "    <tr>\n",
       "      <th>3</th>\n",
       "      <td>PSO</td>\n",
       "      <td>223.87</td>\n",
       "      <td>94.95</td>\n",
       "    </tr>\n",
       "  </tbody>\n",
       "</table>\n",
       "</div>"
      ],
      "text/plain": [
       "    algorithm    time   test\n",
       "0  CHC$_{QX}$   32.05  94.94\n",
       "1  PSO$_{QX}$   23.69  94.94\n",
       "2         CHC   94.59  94.94\n",
       "3         PSO  223.87  94.95"
      ]
     },
     "execution_count": 13,
     "metadata": {},
     "output_type": "execute_result"
    }
   ],
   "source": [
    "#results_df.to_csv(str(path.parent.absolute().parent.absolute())+'/results/results.csv')\n",
    "\n",
    "results_df.head()"
   ]
  }
 ],
 "metadata": {
  "kernelspec": {
   "display_name": ".venv",
   "language": "python",
   "name": "python3"
  },
  "language_info": {
   "codemirror_mode": {
    "name": "ipython",
    "version": 3
   },
   "file_extension": ".py",
   "mimetype": "text/x-python",
   "name": "python",
   "nbconvert_exporter": "python",
   "pygments_lexer": "ipython3",
   "version": "3.12.3"
  }
 },
 "nbformat": 4,
 "nbformat_minor": 5
}
